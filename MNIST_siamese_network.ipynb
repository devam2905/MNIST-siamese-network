{
 "cells": [
  {
   "cell_type": "code",
   "execution_count": 15,
   "metadata": {},
   "outputs": [],
   "source": [
    "import keras"
   ]
  },
  {
   "cell_type": "code",
   "execution_count": 16,
   "metadata": {},
   "outputs": [],
   "source": [
    "from __future__ import absolute_import\n",
    "from __future__ import print_function\n",
    "import numpy as np"
   ]
  },
  {
   "cell_type": "code",
   "execution_count": 17,
   "metadata": {},
   "outputs": [],
   "source": [
    "import random\n",
    "from keras.datasets import mnist\n",
    "from keras.models import Model\n",
    "from keras.layers import Input, Flatten, Dense, Dropout,Flatten, Lambda\n",
    "from keras.layers import Conv2D, Activation,AveragePooling2D,MaxPooling2D\n",
    "from keras.optimizers import RMSprop"
   ]
  },
  {
   "cell_type": "code",
   "execution_count": 18,
   "metadata": {},
   "outputs": [],
   "source": [
    "from keras import backend as K"
   ]
  },
  {
   "cell_type": "code",
   "execution_count": 19,
   "metadata": {},
   "outputs": [],
   "source": [
    "num_classes=10\n",
    "epochs=20"
   ]
  },
  {
   "cell_type": "code",
   "execution_count": 20,
   "metadata": {},
   "outputs": [],
   "source": [
    "def euclid_dis(vects):\n",
    "  x,y = vects\n",
    "  sum_square = K.sum(K.square(x-y), axis=1, keepdims=True)\n",
    "  return K.sqrt(K.maximum(sum_square, K.epsilon()))\n",
    "\n",
    "def eucl_dist_output_shape(shapes):\n",
    "    shape1, shape2 = shapes\n",
    "    return (shape1[0], 1)\n",
    "\n",
    "def contrastive_loss(y_true, y_pred):\n",
    "    margin = 1\n",
    "    square_pred = K.square(y_pred)\n",
    "    margin_square = K.square(K.maximum(margin - y_pred, 0))\n",
    "    return K.mean(y_true * square_pred + (1 - y_true) * margin_square)"
   ]
  },
  {
   "cell_type": "code",
   "execution_count": 21,
   "metadata": {},
   "outputs": [],
   "source": [
    "def create_pairs(x, digit_indices):\n",
    "  pairs = []\n",
    "  labels = []\n",
    "  \n",
    "  n=min([len(digit_indices[d]) for d in range(num_classes)]) -1\n",
    "  \n",
    "  for d in range(num_classes):\n",
    "    for i in range(n):\n",
    "      z1, z2 = digit_indices[d][i], digit_indices[d][i+1]\n",
    "      pairs += [[x[z1], x[z2]]]\n",
    "      inc = random.randrange(1, num_classes)\n",
    "      dn = (d + inc) % num_classes\n",
    "      z1, z2 = digit_indices[d][i], digit_indices[dn][i]\n",
    "      pairs += [[x[z1], x[z2]]]\n",
    "      labels += [1,0]\n",
    "  return np.array(pairs), np.array(labels)"
   ]
  },
  {
   "cell_type": "code",
   "execution_count": 22,
   "metadata": {},
   "outputs": [],
   "source": [
    "def create_base_net(input_shape):\n",
    "  \n",
    "  input = Input(shape = input_shape)\n",
    "  x = Conv2D(32, (3,3), activation = 'relu')(input)\n",
    "  x = AveragePooling2D(pool_size = (2,2))(x)\n",
    "  x = Conv2D(64, (3,3), activation = 'tanh')(x)\n",
    "  x = MaxPooling2D(pool_size = (2,2))(x)\n",
    "  x = Dropout(0.25)(x)\n",
    "  x = Flatten()(x)\n",
    "  x = Dense(128, activation = 'tanh')(x)\n",
    "  x = Dropout(0.5)(x)\n",
    "  x = Dense(64,activation = 'tanh')(x)\n",
    "  x = Dropout(0.5)(x)\n",
    "  x = Dense(10,activation = 'tanh')(x)\n",
    "  model = Model(input, x)\n",
    "  model.summary()\n",
    "  \n",
    "  return model"
   ]
  },
  {
   "cell_type": "code",
   "execution_count": 23,
   "metadata": {},
   "outputs": [
    {
     "name": "stdout",
     "output_type": "stream",
     "text": [
      "(60000, 28, 28, 1)\n"
     ]
    }
   ],
   "source": [
    "def compute_accuracy(y_true, y_pred):\n",
    "    '''Compute classification accuracy with a fixed threshold on distances.\n",
    "    '''\n",
    "    pred = y_pred.ravel() < 0.5\n",
    "    return np.mean(pred == y_true)\n",
    "\n",
    "\n",
    "def accuracy(y_true, y_pred):\n",
    "    '''Compute classification accuracy with a fixed threshold on distances.\n",
    "    '''\n",
    "    return K.mean(K.equal(y_true, K.cast(y_pred < 0.5, y_true.dtype)))\n",
    "\n",
    "\n",
    "# the data, split between train and test sets\n",
    "(x_train, y_train), (x_test, y_test) = mnist.load_data()\n",
    "\n",
    "\n",
    "x_train = x_train.reshape(x_train.shape[0], 28, 28,1)\n",
    "x_test = x_test.reshape(x_test.shape[0], 28, 28, 1)\n",
    "# input_shape = (1, 28, 28)\n",
    "print(x_train.shape)\n",
    "x_train = x_train.astype('float32')\n",
    "x_test = x_test.astype('float32')\n",
    "x_train /= 255\n",
    "x_test /= 255\n",
    "\n",
    "input_shape = x_train.shape[1:]\n",
    "input_shape = (28, 28, 1)"
   ]
  },
  {
   "cell_type": "code",
   "execution_count": 24,
   "metadata": {},
   "outputs": [
    {
     "name": "stdout",
     "output_type": "stream",
     "text": [
      "Model: \"model_1\"\n",
      "_________________________________________________________________\n",
      "Layer (type)                 Output Shape              Param #   \n",
      "=================================================================\n",
      "input_3 (InputLayer)         (None, 28, 28, 1)         0         \n",
      "_________________________________________________________________\n",
      "conv2d_5 (Conv2D)            (None, 26, 26, 32)        320       \n",
      "_________________________________________________________________\n",
      "average_pooling2d_3 (Average (None, 13, 13, 32)        0         \n",
      "_________________________________________________________________\n",
      "conv2d_6 (Conv2D)            (None, 11, 11, 64)        18496     \n",
      "_________________________________________________________________\n",
      "max_pooling2d_3 (MaxPooling2 (None, 5, 5, 64)          0         \n",
      "_________________________________________________________________\n",
      "dropout_5 (Dropout)          (None, 5, 5, 64)          0         \n",
      "_________________________________________________________________\n",
      "flatten_3 (Flatten)          (None, 1600)              0         \n",
      "_________________________________________________________________\n",
      "dense_4 (Dense)              (None, 128)               204928    \n",
      "_________________________________________________________________\n",
      "dropout_6 (Dropout)          (None, 128)               0         \n",
      "_________________________________________________________________\n",
      "dense_5 (Dense)              (None, 64)                8256      \n",
      "_________________________________________________________________\n",
      "dropout_7 (Dropout)          (None, 64)                0         \n",
      "_________________________________________________________________\n",
      "dense_6 (Dense)              (None, 10)                650       \n",
      "=================================================================\n",
      "Total params: 232,650\n",
      "Trainable params: 232,650\n",
      "Non-trainable params: 0\n",
      "_________________________________________________________________\n"
     ]
    }
   ],
   "source": [
    "# create training+test positive and negative pairs\n",
    "digit_indices = [np.where(y_train == i)[0] for i in range(num_classes)]\n",
    "tr_pairs, tr_y = create_pairs(x_train, digit_indices)\n",
    "\n",
    "digit_indices = [np.where(y_test == i)[0] for i in range(num_classes)]\n",
    "te_pairs, te_y = create_pairs(x_test, digit_indices)\n",
    "\n",
    "# network definition\n",
    "base_network = create_base_net(input_shape)"
   ]
  },
  {
   "cell_type": "code",
   "execution_count": 25,
   "metadata": {},
   "outputs": [],
   "source": [
    "input_a = Input(shape=input_shape)\n",
    "input_b = Input(shape=input_shape)\n",
    "\n",
    "processed_a = base_network(input_a)\n",
    "processed_b = base_network(input_b)\n",
    "\n",
    "distance = Lambda(euclid_dis,\n",
    "                  output_shape=eucl_dist_output_shape)([processed_a, processed_b])\n",
    "\n",
    "model = Model([input_a, input_b], distance)"
   ]
  },
  {
   "cell_type": "code",
   "execution_count": 26,
   "metadata": {},
   "outputs": [
    {
     "name": "stdout",
     "output_type": "stream",
     "text": [
      "Train on 108400 samples, validate on 17820 samples\n",
      "Epoch 1/20\n",
      "108400/108400 [==============================] - 55s 510us/step - loss: 0.1399 - accuracy: 0.8203 - val_loss: 0.0681 - val_accuracy: 0.9374\n",
      "Epoch 2/20\n",
      "108400/108400 [==============================] - 60s 556us/step - loss: 0.0994 - accuracy: 0.8947 - val_loss: 0.0572 - val_accuracy: 0.9556\n",
      "Epoch 3/20\n",
      "108400/108400 [==============================] - 62s 573us/step - loss: 0.0881 - accuracy: 0.9149 - val_loss: 0.0529 - val_accuracy: 0.9560\n",
      "Epoch 4/20\n",
      "108400/108400 [==============================] - 61s 560us/step - loss: 0.0802 - accuracy: 0.9273 - val_loss: 0.0506 - val_accuracy: 0.9592\n",
      "Epoch 5/20\n",
      "108400/108400 [==============================] - 61s 566us/step - loss: 0.0714 - accuracy: 0.9396 - val_loss: 0.0427 - val_accuracy: 0.9502\n",
      "Epoch 6/20\n",
      "108400/108400 [==============================] - 61s 561us/step - loss: 0.0621 - accuracy: 0.9487 - val_loss: 0.0372 - val_accuracy: 0.9581\n",
      "Epoch 7/20\n",
      "108400/108400 [==============================] - 62s 573us/step - loss: 0.0591 - accuracy: 0.9516 - val_loss: 0.0359 - val_accuracy: 0.9590\n",
      "Epoch 8/20\n",
      "108400/108400 [==============================] - 61s 566us/step - loss: 0.0569 - accuracy: 0.9548 - val_loss: 0.0307 - val_accuracy: 0.9656\n",
      "Epoch 9/20\n",
      "108400/108400 [==============================] - 61s 563us/step - loss: 0.0541 - accuracy: 0.9578 - val_loss: 0.0285 - val_accuracy: 0.9729\n",
      "Epoch 10/20\n",
      "108400/108400 [==============================] - 61s 564us/step - loss: 0.0526 - accuracy: 0.9605 - val_loss: 0.0294 - val_accuracy: 0.9688\n",
      "Epoch 11/20\n",
      "108400/108400 [==============================] - 61s 560us/step - loss: 0.0518 - accuracy: 0.9616 - val_loss: 0.0280 - val_accuracy: 0.9730\n",
      "Epoch 12/20\n",
      "108400/108400 [==============================] - 61s 562us/step - loss: 0.0508 - accuracy: 0.9624 - val_loss: 0.0262 - val_accuracy: 0.9743\n",
      "Epoch 13/20\n",
      "108400/108400 [==============================] - 61s 559us/step - loss: 0.0502 - accuracy: 0.9644 - val_loss: 0.0272 - val_accuracy: 0.9737\n",
      "Epoch 14/20\n",
      "108400/108400 [==============================] - 61s 560us/step - loss: 0.0492 - accuracy: 0.9657 - val_loss: 0.0266 - val_accuracy: 0.9740\n",
      "Epoch 15/20\n",
      "108400/108400 [==============================] - 61s 560us/step - loss: 0.0491 - accuracy: 0.9659 - val_loss: 0.0260 - val_accuracy: 0.9792\n",
      "Epoch 16/20\n",
      "108400/108400 [==============================] - 61s 559us/step - loss: 0.0480 - accuracy: 0.9687 - val_loss: 0.0269 - val_accuracy: 0.9771\n",
      "Epoch 17/20\n",
      "108400/108400 [==============================] - 61s 560us/step - loss: 0.0478 - accuracy: 0.9683 - val_loss: 0.0262 - val_accuracy: 0.9787\n",
      "Epoch 18/20\n",
      "108400/108400 [==============================] - 78s 719us/step - loss: 0.0478 - accuracy: 0.9690 - val_loss: 0.0266 - val_accuracy: 0.9758\n",
      "Epoch 19/20\n",
      "108400/108400 [==============================] - 76s 699us/step - loss: 0.0471 - accuracy: 0.9694 - val_loss: 0.0280 - val_accuracy: 0.9737\n",
      "Epoch 20/20\n",
      "108400/108400 [==============================] - 76s 700us/step - loss: 0.0465 - accuracy: 0.9704 - val_loss: 0.0240 - val_accuracy: 0.9797\n"
     ]
    },
    {
     "data": {
      "text/plain": [
       "<keras.callbacks.callbacks.History at 0x2068cf84dc8>"
      ]
     },
     "execution_count": 26,
     "metadata": {},
     "output_type": "execute_result"
    }
   ],
   "source": [
    "rms = RMSprop()\n",
    "model.compile(loss=contrastive_loss, optimizer=rms, metrics=[accuracy])\n",
    "model.fit([tr_pairs[:, 0], tr_pairs[:, 1]], tr_y,\n",
    "          batch_size=128,\n",
    "          epochs=epochs,\n",
    "          validation_data=([te_pairs[:, 0], te_pairs[:, 1]], te_y))"
   ]
  },
  {
   "cell_type": "code",
   "execution_count": 27,
   "metadata": {},
   "outputs": [
    {
     "name": "stdout",
     "output_type": "stream",
     "text": [
      "* Accuracy on training set: 99.19%\n",
      "* Accuracy on test set: 97.96%\n"
     ]
    }
   ],
   "source": [
    "# compute final accuracy on training and test sets\n",
    "y_pred = model.predict([tr_pairs[:, 0], tr_pairs[:, 1]])\n",
    "tr_acc = compute_accuracy(tr_y, y_pred)\n",
    "y_pred = model.predict([te_pairs[:, 0], te_pairs[:, 1]])\n",
    "te_acc = compute_accuracy(te_y, y_pred)\n",
    "\n",
    "print('* Accuracy on training set: %0.2f%%' % (100 * tr_acc))\n",
    "print('* Accuracy on test set: %0.2f%%' % (100 * te_acc))"
   ]
  },
  {
   "cell_type": "code",
   "execution_count": 29,
   "metadata": {},
   "outputs": [
    {
     "data": {
      "image/png": "[encoded data removed]",
      "text/plain": [
       "<Figure size 720x360 with 20 Axes>"
      ]
     },
     "metadata": {
      "needs_background": "light"
     },
     "output_type": "display_data"
    },
    {
     "data": {
      "image/png": "[encoded data removed]",
      "text/plain": [
       "<Figure size 720x360 with 20 Axes>"
      ]
     },
     "metadata": {
      "needs_background": "light"
     },
     "output_type": "display_data"
    },
    {
     "name": "stdout",
     "output_type": "stream",
     "text": [
      "[0.00291521]\n",
      "[1.1886922]\n",
      "[0.00209672]\n",
      "[0.8573111]\n",
      "[0.00066753]\n",
      "[1.4425964]\n",
      "[0.0075882]\n",
      "[0.6171736]\n",
      "[0.00406216]\n",
      "[0.85594094]\n",
      "[0.00181737]\n",
      "[1.4346367]\n",
      "[0.00374064]\n",
      "[1.2076678]\n",
      "[0.0005236]\n",
      "[1.0707093]\n",
      "[0.00827269]\n",
      "[0.8566066]\n",
      "[0.00560664]\n",
      "[1.4401786]\n"
     ]
    },
    {
     "data": {
      "image/png": "[encoded data removed]",
      "text/plain": [
       "<Figure size 1440x144 with 1 Axes>"
      ]
     },
     "metadata": {
      "needs_background": "light"
     },
     "output_type": "display_data"
    }
   ],
   "source": [
    "import matplotlib.pyplot as plt\n",
    "from PIL import Image\n",
    "number_of_items = 20\n",
    "import tensorflow as tf\n",
    "\n",
    "im = tf.keras.preprocessing.image.array_to_img(\n",
    "    tr_pairs[1,0],\n",
    "    data_format=None,\n",
    "    scale=True,\n",
    "    dtype=None\n",
    ")\n",
    "\n",
    "plt.figure(figsize=(10, 5))\n",
    "for item in range(number_of_items):\n",
    "    display = plt.subplot(1, number_of_items,item+1)\n",
    "    im = tf.keras.preprocessing.image.array_to_img( tr_pairs[item,0], data_format=None, scale=True,dtype=None)\n",
    "    plt.imshow(im, cmap=\"gray\")\n",
    "    display.get_xaxis().set_visible(False)\n",
    "    display.get_yaxis().set_visible(False)\n",
    "plt.show()\n",
    "\n",
    "plt.figure(figsize=(10, 5))\n",
    "for item in range(number_of_items):\n",
    "    display = plt.subplot(1, number_of_items,item+1)\n",
    "    im = tf.keras.preprocessing.image.array_to_img( tr_pairs[item,1], data_format=None, scale=True,dtype=None)\n",
    "    plt.imshow(im, cmap=\"gray\")\n",
    "    display.get_xaxis().set_visible(False)\n",
    "    display.get_yaxis().set_visible(False)\n",
    "plt.show()\n",
    "\n",
    "for i in range(number_of_items):\n",
    "  print(y_pred[i])\n",
    "plt.figure(figsize=(20, 2))\n",
    "plt.imshow(im, cmap=\"gray\")\n",
    "plt.show()"
   ]
  },
  {
   "cell_type": "code",
   "execution_count": null,
   "metadata": {},
   "outputs": [],
   "source": []
  },
  {
   "cell_type": "code",
   "execution_count": null,
   "metadata": {},
   "outputs": [],
   "source": []
  },
  {
   "cell_type": "code",
   "execution_count": null,
   "metadata": {},
   "outputs": [],
   "source": []
  }
 ],
 "metadata": {
  "kernelspec": {
   "display_name": "Python 3",
   "language": "python",
   "name": "python3"
  },
  "language_info": {
   "codemirror_mode": {
    "name": "ipython",
    "version": 3
   },
   "file_extension": ".py",
   "mimetype": "text/x-python",
   "name": "python",
   "nbconvert_exporter": "python",
   "pygments_lexer": "ipython3",
   "version": "3.7.4"
  }
 },
 "nbformat": 4,
 "nbformat_minor": 2
}
